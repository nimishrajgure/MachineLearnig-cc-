{
  "nbformat": 4,
  "nbformat_minor": 0,
  "metadata": {
    "colab": {
      "provenance": [],
      "mount_file_id": "1n9GvF87poDCLE0tEhLDyNGfoiSPg4vYb",
      "authorship_tag": "ABX9TyPXA6ytXX0RRpG53nA7YHPS"
    },
    "kernelspec": {
      "name": "python3",
      "display_name": "Python 3"
    },
    "language_info": {
      "name": "python"
    }
  },
  "cells": [
    {
      "cell_type": "code",
      "execution_count": 1,
      "metadata": {
        "id": "AG-yUtURp23T"
      },
      "outputs": [],
      "source": [
        "import cv2\n",
        "import os\n",
        "import tensorflow as tf\n",
        "from tensorflow import keras\n",
        "from PIL import Image\n",
        "import numpy as np\n",
        "from sklearn.model_selection import train_test_split\n",
        "from keras.utils import normalize\n",
        "from keras.models import Sequential\n",
        "from keras.layers import Conv2D, MaxPooling2D\n",
        "from keras.layers import Activation, Dropout, Flatten, Dense\n",
        "from keras.utils import to_categorical\n"
      ]
    },
    {
      "cell_type": "code",
      "source": [
        "img_dir='/content/drive/MyDrive/Tumor/'"
      ],
      "metadata": {
        "id": "N8_U6O1mqK2-"
      },
      "execution_count": 10,
      "outputs": []
    },
    {
      "cell_type": "code",
      "source": [
        "notum=os.listdir(img_dir+ 'no/')\n",
        "yestum=os.listdir(img_dir+ 'yes/')\n",
        "dataset=[]\n",
        "label=[]\n"
      ],
      "metadata": {
        "id": "mkvJ0hsqquiW"
      },
      "execution_count": 11,
      "outputs": []
    },
    {
      "cell_type": "code",
      "source": [
        "inpsize=64\n",
        "print(notum)\n",
        "path='no0.jpg'\n",
        "print(path.split('.')[1])"
      ],
      "metadata": {
        "colab": {
          "base_uri": "https://localhost:8080/"
        },
        "id": "GlBZPi9trKGl",
        "outputId": "e5a67b6d-6493-48c3-9514-b18f2e3595d7"
      },
      "execution_count": 14,
      "outputs": [
        {
          "output_type": "stream",
          "name": "stdout",
          "text": [
            "['no']\n",
            "jpg\n"
          ]
        }
      ]
    },
    {
      "cell_type": "code",
      "source": [
        "for i , image_name in enumerate(notum):\n",
        "    if(image_name.split('.')[0]=='jpg'):\n",
        "        image=cv2.imread(img_dir+'no/'+image_name)\n",
        "        image=Image.fromarray(image, 'RGB')\n",
        "        image=image.resize((inpsize,inpsize))\n",
        "        dataset.append(np.array(image))\n",
        "        label.append(0)"
      ],
      "metadata": {
        "id": "UyVpOMBBrOnd"
      },
      "execution_count": 19,
      "outputs": []
    },
    {
      "cell_type": "code",
      "source": [
        "for i , image_name in enumerate(yestum):\n",
        "    if(image_name.split('.')[1]=='jpg'):\n",
        "        image=cv2.imread(img_dir+'yes/'+image_name)\n",
        "        image=Image.fromarray(image, 'RGB')\n",
        "        image=image.resize((inpsize,inpsize))\n",
        "        dataset.append(np.array(image))\n",
        "        label.append(1)"
      ],
      "metadata": {
        "id": "6_oOnjwYrird"
      },
      "execution_count": 16,
      "outputs": []
    },
    {
      "cell_type": "code",
      "source": [
        "dataset=np.array(dataset)\n",
        "label=np.array(label)"
      ],
      "metadata": {
        "id": "xUPBTj0zrREd"
      },
      "execution_count": 20,
      "outputs": []
    },
    {
      "cell_type": "code",
      "source": [
        "x_train, x_test, y_train, y_test=train_test_split(dataset, label, test_size=0.2, random_state=0)\n",
        "print(x_train.shape)\n",
        "print(y_train.shape)\n",
        "\n",
        "print(x_test.shape)\n",
        "print(y_test.shape)"
      ],
      "metadata": {
        "colab": {
          "base_uri": "https://localhost:8080/"
        },
        "id": "9oAn1gZ7r43t",
        "outputId": "f1769885-5c93-47bd-a255-b4323a1495c3"
      },
      "execution_count": 21,
      "outputs": [
        {
          "output_type": "stream",
          "name": "stdout",
          "text": [
            "(1200, 64, 64, 3)\n",
            "(1200,)\n",
            "(300, 64, 64, 3)\n",
            "(300,)\n"
          ]
        }
      ]
    },
    {
      "cell_type": "code",
      "source": [
        "x_train=normalize(x_train, axis=1)\n",
        "x_test=normalize(x_test, axis=1)"
      ],
      "metadata": {
        "id": "BpLmNwYnr-bt"
      },
      "execution_count": 22,
      "outputs": []
    },
    {
      "cell_type": "code",
      "source": [
        "y_train=to_categorical(y_train , num_classes=2)\n",
        "y_test=to_categorical(y_test, num_classes=2)"
      ],
      "metadata": {
        "id": "BB_txlHksBMF"
      },
      "execution_count": 23,
      "outputs": []
    },
    {
      "cell_type": "markdown",
      "source": [
        "**#Building the model**"
      ],
      "metadata": {
        "id": "4z9X4CZJsDsm"
      }
    },
    {
      "cell_type": "code",
      "source": [
        "model=Sequential()\n"
      ],
      "metadata": {
        "id": "S3NC8TA9sBQZ"
      },
      "execution_count": 24,
      "outputs": []
    },
    {
      "cell_type": "code",
      "source": [
        "model.add(Conv2D(32, (3,3), input_shape=(inpsize, inpsize, 3)))\n",
        "model.add(Activation('relu'))\n",
        "model.add(MaxPooling2D(pool_size=(2,2)))"
      ],
      "metadata": {
        "id": "LK8zoH4fsLyV"
      },
      "execution_count": 25,
      "outputs": []
    },
    {
      "cell_type": "code",
      "source": [
        "model.add(Conv2D(32, (3,3), kernel_initializer='he_uniform'))\n",
        "model.add(Activation('relu'))\n",
        "model.add(MaxPooling2D(pool_size=(2,2)))"
      ],
      "metadata": {
        "id": "sfW3eaUzsL1u"
      },
      "execution_count": 26,
      "outputs": []
    },
    {
      "cell_type": "code",
      "source": [
        "model.add(Conv2D(64, (3,3), kernel_initializer='he_uniform'))\n",
        "model.add(Activation('relu'))\n",
        "model.add(MaxPooling2D(pool_size=(2,2)))"
      ],
      "metadata": {
        "id": "OxS8WalTsL4o"
      },
      "execution_count": 27,
      "outputs": []
    },
    {
      "cell_type": "code",
      "source": [
        "model.add(Flatten())\n",
        "model.add(Dense(64))\n",
        "model.add(Activation('relu'))\n",
        "model.add(Dropout(0.5))\n",
        "model.add(Dense(2))\n",
        "model.add(Activation('softmax'))"
      ],
      "metadata": {
        "id": "8EOBBgFWsSZN"
      },
      "execution_count": 28,
      "outputs": []
    },
    {
      "cell_type": "code",
      "source": [
        "model.compile(loss='categorical_crossentropy',optimizer='adam', metrics=['accuracy'])"
      ],
      "metadata": {
        "id": "n8zBRJk2sUwP"
      },
      "execution_count": 29,
      "outputs": []
    },
    {
      "cell_type": "code",
      "source": [
        "model.fit(x_train, y_train, batch_size=16, verbose=1, epochs=10, validation_data=(x_test, y_test), shuffle=False)"
      ],
      "metadata": {
        "colab": {
          "base_uri": "https://localhost:8080/"
        },
        "id": "p1u3Ol2VsYc3",
        "outputId": "457d4e3a-a764-4941-921e-352675b3adf0"
      },
      "execution_count": 30,
      "outputs": [
        {
          "output_type": "stream",
          "name": "stdout",
          "text": [
            "Epoch 1/10\n",
            "75/75 [==============================] - 10s 120ms/step - loss: 0.0190 - accuracy: 0.9967 - val_loss: 0.0000e+00 - val_accuracy: 1.0000\n",
            "Epoch 2/10\n",
            "75/75 [==============================] - 10s 131ms/step - loss: 0.0000e+00 - accuracy: 1.0000 - val_loss: 0.0000e+00 - val_accuracy: 1.0000\n",
            "Epoch 3/10\n",
            "75/75 [==============================] - 7s 88ms/step - loss: 0.0000e+00 - accuracy: 1.0000 - val_loss: 0.0000e+00 - val_accuracy: 1.0000\n",
            "Epoch 4/10\n",
            "75/75 [==============================] - 7s 87ms/step - loss: 4.1723e-09 - accuracy: 1.0000 - val_loss: 0.0000e+00 - val_accuracy: 1.0000\n",
            "Epoch 5/10\n",
            "75/75 [==============================] - 7s 87ms/step - loss: 0.0000e+00 - accuracy: 1.0000 - val_loss: 0.0000e+00 - val_accuracy: 1.0000\n",
            "Epoch 6/10\n",
            "75/75 [==============================] - 7s 87ms/step - loss: 0.0000e+00 - accuracy: 1.0000 - val_loss: 0.0000e+00 - val_accuracy: 1.0000\n",
            "Epoch 7/10\n",
            "75/75 [==============================] - 7s 88ms/step - loss: 0.0000e+00 - accuracy: 1.0000 - val_loss: 0.0000e+00 - val_accuracy: 1.0000\n",
            "Epoch 8/10\n",
            "75/75 [==============================] - 7s 89ms/step - loss: 0.0000e+00 - accuracy: 1.0000 - val_loss: 0.0000e+00 - val_accuracy: 1.0000\n",
            "Epoch 9/10\n",
            "75/75 [==============================] - 7s 87ms/step - loss: 2.0283e-05 - accuracy: 1.0000 - val_loss: 0.0000e+00 - val_accuracy: 1.0000\n",
            "Epoch 10/10\n",
            "75/75 [==============================] - 7s 87ms/step - loss: 0.0000e+00 - accuracy: 1.0000 - val_loss: 0.0000e+00 - val_accuracy: 1.0000\n"
          ]
        },
        {
          "output_type": "execute_result",
          "data": {
            "text/plain": [
              "<keras.callbacks.History at 0x7fc7e6410bb0>"
            ]
          },
          "metadata": {},
          "execution_count": 30
        }
      ]
    },
    {
      "cell_type": "code",
      "source": [
        "model.save('BrainTumor10EpochCategorical.h5')"
      ],
      "metadata": {
        "id": "-nhBdTiwsYhG"
      },
      "execution_count": 31,
      "outputs": []
    }
  ]
}